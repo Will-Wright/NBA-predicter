{
 "cells": [
  {
   "cell_type": "code",
   "execution_count": 14,
   "metadata": {},
   "outputs": [],
   "source": [
    "import pandas as pd\n",
    "import numpy as np"
   ]
  },
  {
   "cell_type": "code",
   "execution_count": 82,
   "metadata": {},
   "outputs": [],
   "source": [
    "team_file_path = \"data_raw/team_box_scores/2018_2019/\"\n",
    "team_file_name = \"2018_10_16_team_box_scores.csv\"\n",
    "schedule_file_path = \"data_raw/season_schedule/\"\n",
    "schedule_file_name = \"2018_2019_season_schedule.csv\"\n",
    "\n",
    "team = pd.read_csv(team_file_path + team_file_name)\n",
    "sch = pd.read_csv(schedule_file_path + schedule_file_name, \\\n",
    "                  parse_dates=[\"start_time\"])\n"
   ]
  },
  {
   "cell_type": "code",
   "execution_count": null,
   "metadata": {},
   "outputs": [],
   "source": []
  },
  {
   "cell_type": "code",
   "execution_count": 83,
   "metadata": {},
   "outputs": [],
   "source": [
    "# Inserts columns and modifies specific entry\n",
    "n_rows = team.shape[0]\n",
    "team.insert(1,\"location\", np.zeros((n_rows,1)))\n",
    "team.insert(2,\"opponent\", np.zeros((n_rows,1)))\n",
    "team.insert(3,\"outcome\", np.zeros((n_rows,1)))\n",
    "team.insert(4,\"game_score\", np.zeros((n_rows,1)))\n",
    "team.insert(5,\"opponent_score\", np.zeros((n_rows,1)))\n",
    "\n",
    "team.loc[2, \"location\"] = 'new location'\n"
   ]
  },
  {
   "cell_type": "code",
   "execution_count": 85,
   "metadata": {},
   "outputs": [
    {
     "data": {
      "text/plain": [
       "0    2018-10-17 00:00:00+00:00\n",
       "1    2018-10-17 02:30:00+00:00\n",
       "2    2018-10-17 23:00:00+00:00\n",
       "3    2018-10-17 23:00:00+00:00\n",
       "4    2018-10-17 23:00:00+00:00\n",
       "5    2018-10-17 23:00:00+00:00\n",
       "6    2018-10-17 23:30:00+00:00\n",
       "7    2018-10-17 23:30:00+00:00\n",
       "8    2018-10-18 00:00:00+00:00\n",
       "9    2018-10-18 00:30:00+00:00\n",
       "10   2018-10-18 02:00:00+00:00\n",
       "11   2018-10-18 02:30:00+00:00\n",
       "12   2018-10-18 02:30:00+00:00\n",
       "13   2018-10-19 00:00:00+00:00\n",
       "14   2018-10-19 00:00:00+00:00\n",
       "15   2018-10-19 02:30:00+00:00\n",
       "16   2018-10-19 23:00:00+00:00\n",
       "17   2018-10-19 23:30:00+00:00\n",
       "18   2018-10-20 00:00:00+00:00\n",
       "19   2018-10-20 00:00:00+00:00\n",
       "20   2018-10-20 00:00:00+00:00\n",
       "Name: start_time, dtype: datetime64[ns, UTC]"
      ]
     },
     "execution_count": 85,
     "metadata": {},
     "output_type": "execute_result"
    }
   ],
   "source": [
    "sch.loc[0:20, \"start_time\"]"
   ]
  },
  {
   "cell_type": "code",
   "execution_count": null,
   "metadata": {},
   "outputs": [],
   "source": [
    "sch.loc[i, \"start_time\"] >= sch.loc[i+1, \"start_time\"]"
   ]
  },
  {
   "cell_type": "code",
   "execution_count": null,
   "metadata": {},
   "outputs": [],
   "source": []
  },
  {
   "cell_type": "code",
   "execution_count": null,
   "metadata": {},
   "outputs": [],
   "source": []
  }
 ],
 "metadata": {
  "kernelspec": {
   "display_name": "Python 3",
   "language": "python",
   "name": "python3"
  },
  "language_info": {
   "codemirror_mode": {
    "name": "ipython",
    "version": 3
   },
   "file_extension": ".py",
   "mimetype": "text/x-python",
   "name": "python",
   "nbconvert_exporter": "python",
   "pygments_lexer": "ipython3",
   "version": "3.7.4"
  }
 },
 "nbformat": 4,
 "nbformat_minor": 2
}
