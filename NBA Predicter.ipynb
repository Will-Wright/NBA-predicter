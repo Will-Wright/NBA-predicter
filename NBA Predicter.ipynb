{
 "cells": [
  {
   "cell_type": "markdown",
   "metadata": {},
   "source": [
    "This notebook demonstrates how to use the `DataProcessor`\n",
    "and `DataClassifier` classes to collect NBA stats and\n",
    "analyze them to predict NBA game outcomes.  \n",
    "\n",
    "`DataProcessor` handles the following data pipeline steps:\n",
    " - Acquisition\n",
    " - Integration\n",
    " - Processing\n",
    " \n",
    "`DataClassifier` handles the steps:\n",
    " - Select features, parameters, classifiers\n",
    " - Classify various models\n",
    " - Evaluate\n",
    " - Plot results"
   ]
  },
  {
   "cell_type": "code",
   "execution_count": 1,
   "metadata": {},
   "outputs": [],
   "source": [
    "from src.DataProcessor import DataProcessor\n",
    "from src.DataClassifier import DataClassifier"
   ]
  },
  {
   "cell_type": "markdown",
   "metadata": {},
   "source": [
    "`DataProcessor` contains the following methods.\n",
    "\n",
    "Note you can also call `dp.update_and_process_all_data()`\n",
    "to run all these methods."
   ]
  },
  {
   "cell_type": "code",
   "execution_count": 9,
   "metadata": {},
   "outputs": [],
   "source": [
    "dp = DataProcessor()"
   ]
  },
  {
   "cell_type": "markdown",
   "metadata": {},
   "source": [
    "These methods scrape player box scores, team box scores, \n",
    "and season schedule data for 2000-current seasons using\n",
    "the scraping utility https://www.basketball-reference.com/. \n",
    "Places files in `data_raw` folder."
   ]
  },
  {
   "cell_type": "code",
   "execution_count": 3,
   "metadata": {},
   "outputs": [
    {
     "name": "stdout",
     "output_type": "stream",
     "text": [
      "\n",
      "Scraping player box score data.\n",
      "\n",
      "Player box score data found for season: 1999-2000\n",
      "Player box score data found for season: 2000-2001\n",
      "Player box score data found for season: 2001-2002\n",
      "Player box score data found for season: 2002-2003\n",
      "Player box score data found for season: 2003-2004\n",
      "Player box score data found for season: 2004-2005\n",
      "Player box score data found for season: 2005-2006\n",
      "Player box score data found for season: 2006-2007\n",
      "Player box score data found for season: 2007-2008\n",
      "Player box score data found for season: 2008-2009\n",
      "Player box score data found for season: 2009-2010\n",
      "Player box score data found for season: 2010-2011\n",
      "Player box score data found for season: 2011-2012\n",
      "Player box score data found for season: 2012-2013\n",
      "Player box score data found for season: 2013-2014\n",
      "Player box score data found for season: 2014-2015\n",
      "Player box score data found for season: 2015-2016\n",
      "Player box score data found for season: 2016-2017\n",
      "Player box score data found for season: 2017-2018\n",
      "Player box score data found for season: 2018-2019\n",
      "2019_12_16: Game data saved\n",
      "2019_12_17: Game data saved\n",
      "2019_12_18: Game data saved\n",
      "2019_12_19: Game data saved\n",
      "2019_12_20: No games played\n",
      "\n",
      "Scraping team box score data.\n",
      "\n",
      "Team box score data found for season: 1999-2000\n",
      "Team box score data found for season: 2000-2001\n",
      "Team box score data found for season: 2001-2002\n",
      "Team box score data found for season: 2002-2003\n",
      "Team box score data found for season: 2003-2004\n",
      "Team box score data found for season: 2004-2005\n",
      "Team box score data found for season: 2005-2006\n",
      "Team box score data found for season: 2006-2007\n",
      "Team box score data found for season: 2007-2008\n",
      "Team box score data found for season: 2008-2009\n",
      "Team box score data found for season: 2009-2010\n",
      "Team box score data found for season: 2010-2011\n",
      "Team box score data found for season: 2011-2012\n",
      "Team box score data found for season: 2012-2013\n",
      "Team box score data found for season: 2013-2014\n",
      "Team box score data found for season: 2014-2015\n",
      "Team box score data found for season: 2015-2016\n",
      "Team box score data found for season: 2016-2017\n",
      "Team box score data found for season: 2017-2018\n",
      "Team box score data found for season: 2018-2019\n",
      "2019_12_16: Game data saved\n",
      "2019_12_17: Game data saved\n",
      "2019_12_18: Game data saved\n",
      "2019_12_19: Game data saved\n",
      "2019_12_20: No games played\n",
      "\n",
      "Scraping season schedule data.\n",
      "\n",
      "Season schedule data found for season: 2000-2001\n",
      "Season schedule data found for season: 2001-2002\n",
      "Season schedule data found for season: 2002-2003\n",
      "Season schedule data found for season: 2003-2004\n",
      "Season schedule data found for season: 2004-2005\n",
      "Season schedule data found for season: 2005-2006\n",
      "Season schedule data found for season: 2006-2007\n",
      "Season schedule data found for season: 2007-2008\n",
      "Season schedule data found for season: 2008-2009\n",
      "Season schedule data found for season: 2009-2010\n",
      "Season schedule data found for season: 2010-2011\n",
      "Season schedule data found for season: 2011-2012\n",
      "Season schedule data found for season: 2012-2013\n",
      "Season schedule data found for season: 2013-2014\n",
      "Season schedule data found for season: 2014-2015\n",
      "Season schedule data found for season: 2015-2016\n",
      "Season schedule data found for season: 2016-2017\n",
      "Season schedule data found for season: 2017-2018\n",
      "Season schedule data found for season: 2018-2019\n",
      "Season 2019-2020: Game data saved\n"
     ]
    }
   ],
   "source": [
    "dp.scrape_data_player_box_scores()\n",
    "dp.scrape_data_team_box_scores()\n",
    "dp.scrape_data_season_schedule()"
   ]
  },
  {
   "cell_type": "markdown",
   "metadata": {},
   "source": [
    "INTEGRATION, PROCESSING\n",
    "\n",
    "create_processed_team_box_and_add_season_schedule():\n",
    "    Creates `data_preprocessed` folder and merges team box\n",
    "    scores with season schedule.  Adds the following data:\n",
    "    win/loss, home/away, opponent, opponent score.\n",
    "\n",
    "add_fgp_tpp_tr_to_processed_team_box():\n",
    "    Adds derived features recommended by professional \n",
    "    NBA analysts to preprocessed data.\n",
    "\n",
    "write_complete_processed_team_box():\n",
    "    Writes single csv file for classification and validation phase."
   ]
  },
  {
   "cell_type": "code",
   "execution_count": 4,
   "metadata": {},
   "outputs": [
    {
     "name": "stdout",
     "output_type": "stream",
     "text": [
      "\n",
      "Adding season schedule to team box scores (e.g, win/loss, total pts).\n",
      "\n",
      "Merged team box score data found for season: 2000-2001\n",
      "Merged team box score data found for season: 2001-2002\n",
      "Merged team box score data found for season: 2002-2003\n",
      "Merged team box score data found for season: 2003-2004\n",
      "Merged team box score data found for season: 2004-2005\n",
      "Merged team box score data found for season: 2005-2006\n",
      "Merged team box score data found for season: 2006-2007\n",
      "Merged team box score data found for season: 2007-2008\n",
      "Merged team box score data found for season: 2008-2009\n",
      "Merged team box score data found for season: 2009-2010\n",
      "Merged team box score data found for season: 2010-2011\n",
      "Merged team box score data found for season: 2011-2012\n",
      "Merged team box score data found for season: 2012-2013\n",
      "Merged team box score data found for season: 2013-2014\n",
      "Merged team box score data found for season: 2014-2015\n",
      "Merged team box score data found for season: 2015-2016\n",
      "Merged team box score data found for season: 2016-2017\n",
      "Merged team box score data found for season: 2017-2018\n",
      "Merged team box score data found for season: 2018-2019\n",
      "2019_12_15: Data added\n",
      "2019_12_16: Data added\n",
      "2019_12_17: Data added\n",
      "2019_12_18: Data added\n",
      "2019_12_19: Data added\n",
      "2019_12_20: No games played\n",
      "\n",
      "Adding FG%, 3P%, total rebounds to team box scores.\n",
      "\n",
      "Data found in team box scores for season: 2000-2001\n",
      "Data found in team box scores for season: 2001-2002\n",
      "Data found in team box scores for season: 2002-2003\n",
      "Data found in team box scores for season: 2003-2004\n",
      "Data found in team box scores for season: 2004-2005\n",
      "Data found in team box scores for season: 2005-2006\n",
      "Data found in team box scores for season: 2006-2007\n",
      "Data found in team box scores for season: 2007-2008\n",
      "Data found in team box scores for season: 2008-2009\n",
      "Data found in team box scores for season: 2009-2010\n",
      "Data found in team box scores for season: 2010-2011\n",
      "Data found in team box scores for season: 2011-2012\n",
      "Data found in team box scores for season: 2012-2013\n",
      "Data found in team box scores for season: 2013-2014\n",
      "Data found in team box scores for season: 2014-2015\n",
      "Data found in team box scores for season: 2015-2016\n",
      "Data found in team box scores for season: 2016-2017\n",
      "Data found in team box scores for season: 2017-2018\n",
      "Data found in team box scores for season: 2018-2019\n",
      "2019_12_15: Data added\n",
      "2019_12_16: Data added\n",
      "2019_12_17: Data added\n",
      "2019_12_18: Data added\n",
      "2019_12_19: Data added\n",
      "2019_12_20: No games played\n",
      "\n",
      "Combining processed box score data.\n",
      "\n",
      "Loading game data for season 2000-2001\n",
      "Loading game data for season 2001-2002\n",
      "Loading game data for season 2002-2003\n",
      "Loading game data for season 2003-2004\n",
      "Loading game data for season 2004-2005\n",
      "Loading game data for season 2005-2006\n",
      "Loading game data for season 2006-2007\n",
      "Loading game data for season 2007-2008\n",
      "Loading game data for season 2008-2009\n",
      "Loading game data for season 2009-2010\n",
      "Loading game data for season 2010-2011\n",
      "Loading game data for season 2011-2012\n",
      "Loading game data for season 2012-2013\n",
      "Loading game data for season 2013-2014\n",
      "Loading game data for season 2014-2015\n",
      "Loading game data for season 2015-2016\n",
      "Loading game data for season 2016-2017\n",
      "Loading game data for season 2017-2018\n",
      "Loading game data for season 2018-2019\n",
      "Loading game data for season 2019-2020\n"
     ]
    }
   ],
   "source": [
    "dp.create_processed_team_box_and_add_season_schedule()\n",
    "dp.add_fgp_tpp_tr_to_processed_team_box()\n",
    "dp.write_complete_processed_team_box()"
   ]
  },
  {
   "cell_type": "markdown",
   "metadata": {},
   "source": [
    "`DataClassifier` contains methods for modeling,\n",
    "classifying, and evaluating NBA game prediction methods."
   ]
  },
  {
   "cell_type": "code",
   "execution_count": 2,
   "metadata": {},
   "outputs": [],
   "source": [
    "dc = DataClassifier()"
   ]
  },
  {
   "cell_type": "markdown",
   "metadata": {},
   "source": [
    "MODELING, EVALUATION"
   ]
  },
  {
   "cell_type": "code",
   "execution_count": 3,
   "metadata": {
    "scrolled": false
   },
   "outputs": [
    {
     "name": "stdout",
     "output_type": "stream",
     "text": [
      "\n",
      "Loading model from processed data.\n",
      "\n"
     ]
    }
   ],
   "source": [
    "# Loads complete preprocessed data set.\n",
    "dc.load_data()\n",
    "\n",
    "\n",
    "# Selects features and labels for modeling.\n",
    "feats = [\"attempted_field_goals\", \\\n",
    "         \"field_goal_percentage\",\\\n",
    "         \"three_point_percentage\",\\\n",
    "         \"made_free_throws\",\\\n",
    "         \"defensive_rebounds\",\\\n",
    "         \"total_rebounds\",\n",
    "         \"turnovers\",\\\n",
    "         \"personal_fouls\"]\n",
    "labels = [\"outcome\"]\n",
    "skip_playoffs = True\n",
    "start_year = 2007\n",
    "end_year = 2020\n",
    "#start_year = 2018\n",
    "#end_year = 2020\n",
    "dc.set_feats_and_labels(feats=feats, labels=labels, \\\n",
    "                        skip_playoffs=skip_playoffs, \\\n",
    "                        start_year=start_year, \\\n",
    "                        end_year=end_year)\n",
    "\n",
    "\n",
    "# Sets data shuffling parameters.\n",
    "n_splits = 1\n",
    "test_size = 0.2\n",
    "dc.set_train_test_split(n_splits=n_splits, \\\n",
    "                        test_size=test_size, rng_seed=0)\n",
    "\n",
    "\n",
    "# Sets classifiers from scikit-learn\n",
    "classifiers = [\"KNN\", \\\n",
    "               \"DTC\", \\\n",
    "               \"RFC\", \\\n",
    "               \"ABC\",\\\n",
    "               \"GBC\", \\\n",
    "               \"GNB\", \\\n",
    "               \"LDA\", \\\n",
    "               \"QDA\", \\\n",
    "               \"LR\"]\n",
    "dc.set_classifiers(classifiers=classifiers)"
   ]
  },
  {
   "cell_type": "markdown",
   "metadata": {},
   "source": [
    "Trains and tests/evaluates all classification models.\n",
    "Shuffles data for cross-validation using \n",
    "StratifiedShuffleSplit (stratified k-fold with shuffling). \n",
    "Logs results."
   ]
  },
  {
   "cell_type": "code",
   "execution_count": 4,
   "metadata": {},
   "outputs": [
    {
     "name": "stdout",
     "output_type": "stream",
     "text": [
      "==============================\n",
      "KNeighborsClassifier\n",
      "****Results****\n",
      "Accuracy : 63.7375%\n",
      "Log Loss : 4.1088739\n",
      "==============================\n",
      "DecisionTreeClassifier\n",
      "****Results****\n",
      "Accuracy : 71.1122%\n",
      "Log Loss : 9.9774842\n",
      "==============================\n",
      "RandomForestClassifier\n",
      "****Results****\n",
      "Accuracy : 77.8758%\n",
      "Log Loss : 0.80817659\n",
      "==============================\n",
      "AdaBoostClassifier\n",
      "****Results****\n",
      "Accuracy : 79.5892%\n",
      "Log Loss : 0.67844543\n",
      "==============================\n",
      "GradientBoostingClassifier\n",
      "****Results****\n",
      "Accuracy : 79.9198%\n",
      "Log Loss : 0.42599609\n",
      "==============================\n",
      "GaussianNB\n",
      "****Results****\n",
      "Accuracy : 78.5972%\n",
      "Log Loss : 0.44605678\n",
      "==============================\n",
      "LinearDiscriminantAnalysis\n",
      "****Results****\n",
      "Accuracy : 80.6413%\n",
      "Log Loss : 0.4093293\n",
      "==============================\n",
      "QuadraticDiscriminantAnalysis\n",
      "****Results****\n",
      "Accuracy : 80.3307%\n",
      "Log Loss : 0.41202089\n",
      "==============================\n",
      "LogisticRegression\n",
      "****Results****\n",
      "Accuracy : 80.3707%\n",
      "Log Loss : 0.42070617\n",
      "==============================\n"
     ]
    }
   ],
   "source": [
    "dc.train_and_test_models(verbose=True)"
   ]
  },
  {
   "cell_type": "code",
   "execution_count": 5,
   "metadata": {},
   "outputs": [
    {
     "data": {
      "image/png": "[encoded data removed]",
      "text/plain": [
       "<Figure size 432x288 with 1 Axes>"
      ]
     },
     "metadata": {
      "needs_background": "light"
     },
     "output_type": "display_data"
    },
    {
     "data": {
      "image/png": "[encoded data removed]",
      "text/plain": [
       "<Figure size 432x288 with 1 Axes>"
      ]
     },
     "metadata": {
      "needs_background": "light"
     },
     "output_type": "display_data"
    }
   ],
   "source": [
    "# Plots classifier accuracy and log loss.\n",
    "dc.plot_results()"
   ]
  }
 ],
 "metadata": {
  "kernelspec": {
   "display_name": "venv",
   "language": "python",
   "name": "venv"
  },
  "language_info": {
   "codemirror_mode": {
    "name": "ipython",
    "version": 3
   },
   "file_extension": ".py",
   "mimetype": "text/x-python",
   "name": "python",
   "nbconvert_exporter": "python",
   "pygments_lexer": "ipython3",
   "version": "3.7.5"
  }
 },
 "nbformat": 4,
 "nbformat_minor": 2
}
