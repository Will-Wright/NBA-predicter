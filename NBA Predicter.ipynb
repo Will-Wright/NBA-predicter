{
 "cells": [
  {
   "cell_type": "code",
   "execution_count": 1,
   "metadata": {},
   "outputs": [],
   "source": [
    "# Imports everything (say what)\n",
    "# Explain reason for exactly 2 classes\n",
    "# DP\n",
    "#    ACQUISITION\n",
    "#    INTEGRATION\n",
    "#    PROCESSING\n",
    "# DC\n",
    "#    SELECT FEATURES, PARAMS, CLASSIFIERS\n",
    "#    MODEL\n",
    "#    EVALUATE\n",
    "#    PLOT/VISUALIZE\n",
    "#\n",
    "\n",
    "from src.DataProcessor import DataProcessor\n",
    "from src.DataClassifier import DataClassifier"
   ]
  },
  {
   "cell_type": "code",
   "execution_count": 2,
   "metadata": {},
   "outputs": [],
   "source": [
    "# Say what DP does generally\n",
    "# Note that can also call dp.update_and_process_all_data()\n",
    "\n",
    "\n",
    "dp = DataProcessor()"
   ]
  },
  {
   "cell_type": "code",
   "execution_count": 3,
   "metadata": {},
   "outputs": [
    {
     "name": "stdout",
     "output_type": "stream",
     "text": [
      "\n",
      "Scraping player box score data.\n",
      "\n",
      "Player box score data found for season: 1999-2000\n",
      "Player box score data found for season: 2000-2001\n",
      "Player box score data found for season: 2001-2002\n",
      "Player box score data found for season: 2002-2003\n",
      "Player box score data found for season: 2003-2004\n",
      "Player box score data found for season: 2004-2005\n",
      "Player box score data found for season: 2005-2006\n",
      "Player box score data found for season: 2006-2007\n",
      "Player box score data found for season: 2007-2008\n",
      "Player box score data found for season: 2008-2009\n",
      "Player box score data found for season: 2009-2010\n",
      "Player box score data found for season: 2010-2011\n",
      "Player box score data found for season: 2011-2012\n",
      "Player box score data found for season: 2012-2013\n",
      "Player box score data found for season: 2013-2014\n",
      "Player box score data found for season: 2014-2015\n",
      "Player box score data found for season: 2015-2016\n",
      "Player box score data found for season: 2016-2017\n",
      "Player box score data found for season: 2017-2018\n",
      "Player box score data found for season: 2018-2019\n",
      "2019_12_16: Game data saved\n",
      "2019_12_17: Game data saved\n",
      "2019_12_18: Game data saved\n",
      "2019_12_19: No games played\n",
      "\n",
      "Scraping team box score data.\n",
      "\n",
      "Team box score data found for season: 1999-2000\n",
      "Team box score data found for season: 2000-2001\n",
      "Team box score data found for season: 2001-2002\n",
      "Team box score data found for season: 2002-2003\n",
      "Team box score data found for season: 2003-2004\n",
      "Team box score data found for season: 2004-2005\n",
      "Team box score data found for season: 2005-2006\n",
      "Team box score data found for season: 2006-2007\n",
      "Team box score data found for season: 2007-2008\n",
      "Team box score data found for season: 2008-2009\n",
      "Team box score data found for season: 2009-2010\n",
      "Team box score data found for season: 2010-2011\n",
      "Team box score data found for season: 2011-2012\n",
      "Team box score data found for season: 2012-2013\n",
      "Team box score data found for season: 2013-2014\n",
      "Team box score data found for season: 2014-2015\n",
      "Team box score data found for season: 2015-2016\n",
      "Team box score data found for season: 2016-2017\n",
      "Team box score data found for season: 2017-2018\n",
      "Team box score data found for season: 2018-2019\n",
      "2019_12_16: Game data saved\n",
      "2019_12_17: Game data saved\n",
      "2019_12_18: Game data saved\n",
      "2019_12_19: No games played\n",
      "\n",
      "Scraping season schedule data.\n",
      "\n",
      "Season schedule data found for season: 2000-2001\n",
      "Season schedule data found for season: 2001-2002\n",
      "Season schedule data found for season: 2002-2003\n",
      "Season schedule data found for season: 2003-2004\n",
      "Season schedule data found for season: 2004-2005\n",
      "Season schedule data found for season: 2005-2006\n",
      "Season schedule data found for season: 2006-2007\n",
      "Season schedule data found for season: 2007-2008\n",
      "Season schedule data found for season: 2008-2009\n",
      "Season schedule data found for season: 2009-2010\n",
      "Season schedule data found for season: 2010-2011\n",
      "Season schedule data found for season: 2011-2012\n",
      "Season schedule data found for season: 2012-2013\n",
      "Season schedule data found for season: 2013-2014\n",
      "Season schedule data found for season: 2014-2015\n",
      "Season schedule data found for season: 2015-2016\n",
      "Season schedule data found for season: 2016-2017\n",
      "Season schedule data found for season: 2017-2018\n",
      "Season schedule data found for season: 2018-2019\n",
      "Season 2019-2020: Game data saved\n"
     ]
    }
   ],
   "source": [
    "# DATA ACQUISITION - describe scrape\n",
    "\n",
    "\n",
    "dp.scrape_data_player_box_scores()\n",
    "dp.scrape_data_team_box_scores()\n",
    "dp.scrape_data_season_schedule()"
   ]
  },
  {
   "cell_type": "code",
   "execution_count": 4,
   "metadata": {},
   "outputs": [
    {
     "name": "stdout",
     "output_type": "stream",
     "text": [
      "\n",
      "Adding season schedule to team box scores (e.g, win/loss, total pts).\n",
      "\n",
      "Merged team box score data found for season: 2000-2001\n",
      "Merged team box score data found for season: 2001-2002\n",
      "Merged team box score data found for season: 2002-2003\n",
      "Merged team box score data found for season: 2003-2004\n",
      "Merged team box score data found for season: 2004-2005\n",
      "Merged team box score data found for season: 2005-2006\n",
      "Merged team box score data found for season: 2006-2007\n",
      "Merged team box score data found for season: 2007-2008\n",
      "Merged team box score data found for season: 2008-2009\n",
      "Merged team box score data found for season: 2009-2010\n",
      "Merged team box score data found for season: 2010-2011\n",
      "Merged team box score data found for season: 2011-2012\n",
      "Merged team box score data found for season: 2012-2013\n",
      "Merged team box score data found for season: 2013-2014\n",
      "Merged team box score data found for season: 2014-2015\n",
      "Merged team box score data found for season: 2015-2016\n",
      "Merged team box score data found for season: 2016-2017\n",
      "Merged team box score data found for season: 2017-2018\n",
      "Merged team box score data found for season: 2018-2019\n",
      "2019_12_13: Data added\n",
      "2019_12_14: Data added\n",
      "2019_12_15: Data added\n",
      "2019_12_16: Data added\n",
      "2019_12_17: Data added\n",
      "2019_12_18: Data added\n",
      "2019_12_19: No games played\n",
      "\n",
      "Adding FG%, 3P%, total rebounds to team box scores.\n",
      "\n",
      "Data found in team box scores for season: 2000-2001\n",
      "Data found in team box scores for season: 2001-2002\n",
      "Data found in team box scores for season: 2002-2003\n",
      "Data found in team box scores for season: 2003-2004\n",
      "Data found in team box scores for season: 2004-2005\n",
      "Data found in team box scores for season: 2005-2006\n",
      "Data found in team box scores for season: 2006-2007\n",
      "Data found in team box scores for season: 2007-2008\n",
      "Data found in team box scores for season: 2008-2009\n",
      "Data found in team box scores for season: 2009-2010\n",
      "Data found in team box scores for season: 2010-2011\n",
      "Data found in team box scores for season: 2011-2012\n",
      "Data found in team box scores for season: 2012-2013\n",
      "Data found in team box scores for season: 2013-2014\n",
      "Data found in team box scores for season: 2014-2015\n",
      "Data found in team box scores for season: 2015-2016\n",
      "Data found in team box scores for season: 2016-2017\n",
      "Data found in team box scores for season: 2017-2018\n",
      "Data found in team box scores for season: 2018-2019\n",
      "2019_12_13: Data added\n",
      "2019_12_14: Data added\n",
      "2019_12_15: Data added\n",
      "2019_12_16: Data added\n",
      "2019_12_17: Data added\n",
      "2019_12_18: Data added\n",
      "2019_12_19: No games played\n",
      "\n",
      "Combining processed box score data.\n",
      "\n",
      "Loading game data for season 2000-2001\n",
      "Loading game data for season 2001-2002\n",
      "Loading game data for season 2002-2003\n",
      "Loading game data for season 2003-2004\n",
      "Loading game data for season 2004-2005\n",
      "Loading game data for season 2005-2006\n",
      "Loading game data for season 2006-2007\n",
      "Loading game data for season 2007-2008\n",
      "Loading game data for season 2008-2009\n",
      "Loading game data for season 2009-2010\n",
      "Loading game data for season 2010-2011\n",
      "Loading game data for season 2011-2012\n",
      "Loading game data for season 2012-2013\n",
      "Loading game data for season 2013-2014\n",
      "Loading game data for season 2014-2015\n",
      "Loading game data for season 2015-2016\n",
      "Loading game data for season 2016-2017\n",
      "Loading game data for season 2017-2018\n",
      "Loading game data for season 2018-2019\n",
      "Loading game data for season 2019-2020\n"
     ]
    }
   ],
   "source": [
    "# DATA INTEGRATION, PROCESSING\n",
    "\n",
    "\n",
    "# Integrates team box score and season schedule data\n",
    "# EXPLAIN\n",
    "dp.create_processed_team_box_and_add_season_schedule()\n",
    "\n",
    "# Adds derived features\n",
    "# EXPLAIN THEY ARE GOOD PER LIT REVIEW\n",
    "dp.add_fgp_tpp_tr_to_processed_team_box()\n",
    "\n",
    "\n",
    "# Writes single csv file for Classification and Validation \n",
    "dp.write_complete_processed_team_box()"
   ]
  },
  {
   "cell_type": "code",
   "execution_count": 5,
   "metadata": {},
   "outputs": [],
   "source": [
    "# Say what DC does generally\n",
    "\n",
    "dc = DataClassifier()\n"
   ]
  },
  {
   "cell_type": "code",
   "execution_count": 6,
   "metadata": {
    "scrolled": false
   },
   "outputs": [
    {
     "name": "stdout",
     "output_type": "stream",
     "text": [
      "\n",
      "Loading model from processed data.\n",
      "\n"
     ]
    }
   ],
   "source": [
    "# DATA MODELING, EVALUATION\n",
    "\n",
    "\n",
    "#\n",
    "\n",
    "dc.load_data()\n",
    "\n",
    "\n",
    "#\n",
    "\n",
    "dc.set_feats_and_labels()\n",
    "dc.set_train_test_split(n_splits = 3)\n",
    "dc.set_classifiers()"
   ]
  },
  {
   "cell_type": "code",
   "execution_count": 7,
   "metadata": {},
   "outputs": [
    {
     "name": "stdout",
     "output_type": "stream",
     "text": [
      "Training and testing model : 1 of 3\n",
      "Training and testing model : 2 of 3\n",
      "Training and testing model : 3 of 3\n",
      "==============================\n",
      "DecisionTreeClassifier\n",
      "****Results****\n",
      "Avg Accuracy : 71.2463%\n",
      "Variance     : 2.35879e-06\n",
      "Avg Log Loss : 9.93118172186228\n",
      "==============================\n"
     ]
    }
   ],
   "source": [
    "#\n",
    "\n",
    "dc.train_and_test_models()"
   ]
  },
  {
   "cell_type": "code",
   "execution_count": 8,
   "metadata": {},
   "outputs": [
    {
     "data": {
      "image/png": "[encoded data removed]",
      "text/plain": [
       "<Figure size 432x288 with 1 Axes>"
      ]
     },
     "metadata": {
      "needs_background": "light"
     },
     "output_type": "display_data"
    },
    {
     "data": {
      "image/png": "[encoded data removed]",
      "text/plain": [
       "<Figure size 432x288 with 1 Axes>"
      ]
     },
     "metadata": {
      "needs_background": "light"
     },
     "output_type": "display_data"
    }
   ],
   "source": [
    "# \n",
    "\n",
    "\n",
    "\n",
    "dc.plot_results()"
   ]
  },
  {
   "cell_type": "code",
   "execution_count": null,
   "metadata": {},
   "outputs": [],
   "source": []
  }
 ],
 "metadata": {
  "kernelspec": {
   "display_name": "venv",
   "language": "python",
   "name": "venv"
  },
  "language_info": {
   "codemirror_mode": {
    "name": "ipython",
    "version": 3
   },
   "file_extension": ".py",
   "mimetype": "text/x-python",
   "name": "python",
   "nbconvert_exporter": "python",
   "pygments_lexer": "ipython3",
   "version": "3.7.5"
  }
 },
 "nbformat": 4,
 "nbformat_minor": 2
}
