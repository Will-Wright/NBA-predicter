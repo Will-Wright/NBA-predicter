{
 "cells": [
  {
   "cell_type": "code",
   "execution_count": 1,
   "metadata": {},
   "outputs": [],
   "source": [
    "#\n",
    "# --- DataProcesser ---\n",
    "#\n",
    "# Add functions dp.add_STUFF_to_TEAM_BOX (add ALL DATA prior to modeling class/phase)\n",
    "#   For dp.create_processed_team_box_and_add_season_schedule\n",
    "#      Add n_days_rest (1-k), n_days_travel (0-k) (don't count current)\n",
    "#         Should these be one-hots?!!!  Check online\n",
    "#\n",
    "#\n",
    "# --- DataModeler ---\n",
    "#\n",
    "# Add best ML algos to dm.train_model\n",
    "#   Add those 3 weka algos\n",
    "#   Hunt other candidates based on problem type, amount of data\n",
    "#\n",
    "\n",
    "\n",
    "from src.DataProcessor import DataProcessor\n",
    "from src.DataModeler import DataModeler"
   ]
  },
  {
   "cell_type": "code",
   "execution_count": 2,
   "metadata": {},
   "outputs": [
    {
     "name": "stdout",
     "output_type": "stream",
     "text": [
      "\n",
      "Scraping player box score data.\n",
      "\n",
      "Player box score data found for season: 1999-2000\n",
      "Player box score data found for season: 2000-2001\n",
      "Player box score data found for season: 2001-2002\n",
      "Player box score data found for season: 2002-2003\n",
      "Player box score data found for season: 2003-2004\n",
      "Player box score data found for season: 2004-2005\n",
      "Player box score data found for season: 2005-2006\n",
      "Player box score data found for season: 2006-2007\n",
      "Player box score data found for season: 2007-2008\n",
      "Player box score data found for season: 2008-2009\n",
      "Player box score data found for season: 2009-2010\n",
      "Player box score data found for season: 2010-2011\n",
      "Player box score data found for season: 2011-2012\n",
      "Player box score data found for season: 2012-2013\n",
      "Player box score data found for season: 2013-2014\n",
      "Player box score data found for season: 2014-2015\n",
      "Player box score data found for season: 2015-2016\n",
      "Player box score data found for season: 2016-2017\n",
      "Player box score data found for season: 2017-2018\n",
      "Player box score data found for season: 2018-2019\n",
      "2019_12_14: Game data saved\n",
      "2019_12_15: Game data saved\n",
      "2019_12_16: Game data saved\n",
      "2019_12_17: No games played\n",
      "\n",
      "Scraping team box score data.\n",
      "\n",
      "Team box score data found for season: 1999-2000\n",
      "Team box score data found for season: 2000-2001\n",
      "Team box score data found for season: 2001-2002\n",
      "Team box score data found for season: 2002-2003\n",
      "Team box score data found for season: 2003-2004\n",
      "Team box score data found for season: 2004-2005\n",
      "Team box score data found for season: 2005-2006\n",
      "Team box score data found for season: 2006-2007\n",
      "Team box score data found for season: 2007-2008\n",
      "Team box score data found for season: 2008-2009\n",
      "Team box score data found for season: 2009-2010\n",
      "Team box score data found for season: 2010-2011\n",
      "Team box score data found for season: 2011-2012\n",
      "Team box score data found for season: 2012-2013\n",
      "Team box score data found for season: 2013-2014\n",
      "Team box score data found for season: 2014-2015\n",
      "Team box score data found for season: 2015-2016\n",
      "Team box score data found for season: 2016-2017\n",
      "Team box score data found for season: 2017-2018\n",
      "Team box score data found for season: 2018-2019\n",
      "2019_12_14: Game data saved\n",
      "2019_12_15: Game data saved\n",
      "2019_12_16: Game data saved\n",
      "2019_12_17: No games played\n",
      "\n",
      "Scraping season schedule data.\n",
      "\n",
      "Season schedule data found for season: 2000-2001\n",
      "Season schedule data found for season: 2001-2002\n",
      "Season schedule data found for season: 2002-2003\n",
      "Season schedule data found for season: 2003-2004\n",
      "Season schedule data found for season: 2004-2005\n",
      "Season schedule data found for season: 2005-2006\n",
      "Season schedule data found for season: 2006-2007\n",
      "Season schedule data found for season: 2007-2008\n",
      "Season schedule data found for season: 2008-2009\n",
      "Season schedule data found for season: 2009-2010\n",
      "Season schedule data found for season: 2010-2011\n",
      "Season schedule data found for season: 2011-2012\n",
      "Season schedule data found for season: 2012-2013\n",
      "Season schedule data found for season: 2013-2014\n",
      "Season schedule data found for season: 2014-2015\n",
      "Season schedule data found for season: 2015-2016\n",
      "Season schedule data found for season: 2016-2017\n",
      "Season schedule data found for season: 2017-2018\n",
      "Season schedule data found for season: 2018-2019\n",
      "Season 2019-2020: Game data saved\n"
     ]
    }
   ],
   "source": [
    "dp = DataProcessor()\n",
    "\n",
    "dp.update_all_data()\n",
    "\n",
    "#dp.scrape_data_player_box_scores()\n",
    "#dp.scrape_data_team_box_scores()\n",
    "#dp.scrape_data_season_schedule()\n",
    "\n",
    "#dp.create_processed_team_box_and_add_season_schedule()\n",
    "#dp.add_fgp_tpp_tr_to_processed_team_box()\n",
    "\n",
    "#dp.write_complete_processed_team_box()"
   ]
  },
  {
   "cell_type": "code",
   "execution_count": null,
   "metadata": {},
   "outputs": [],
   "source": []
  },
  {
   "cell_type": "code",
   "execution_count": 2,
   "metadata": {},
   "outputs": [],
   "source": [
    "dm = DataModeler()"
   ]
  },
  {
   "cell_type": "code",
   "execution_count": 4,
   "metadata": {
    "scrolled": false
   },
   "outputs": [
    {
     "name": "stdout",
     "output_type": "stream",
     "text": [
      "\n",
      "Loading model from processed data.\n",
      "\n"
     ]
    }
   ],
   "source": [
    "dm.load_data()\n",
    "dm.set_feats_and_label()\n",
    "dm.set_training_params(n_models=3)"
   ]
  },
  {
   "cell_type": "code",
   "execution_count": 6,
   "metadata": {},
   "outputs": [
    {
     "name": "stdout",
     "output_type": "stream",
     "text": [
      "Training and testing model : 1 of 3\n",
      "Training and testing model : 2 of 3\n",
      "Training and testing model : 3 of 3\n",
      "Mean : 0.713765\n",
      "Var  : 0.000020\n"
     ]
    }
   ],
   "source": [
    "#model_type = \"decision_tree_classifier\"\n",
    "model_type = \"decision_tree_regressor\"\n",
    "\n",
    "dm.train_and_test_model(model_type=model_type)"
   ]
  },
  {
   "cell_type": "code",
   "execution_count": null,
   "metadata": {},
   "outputs": [],
   "source": []
  },
  {
   "cell_type": "code",
   "execution_count": null,
   "metadata": {},
   "outputs": [],
   "source": []
  },
  {
   "cell_type": "code",
   "execution_count": null,
   "metadata": {},
   "outputs": [],
   "source": []
  },
  {
   "cell_type": "code",
   "execution_count": null,
   "metadata": {},
   "outputs": [],
   "source": []
  },
  {
   "cell_type": "code",
   "execution_count": null,
   "metadata": {},
   "outputs": [],
   "source": []
  },
  {
   "cell_type": "code",
   "execution_count": null,
   "metadata": {},
   "outputs": [],
   "source": []
  },
  {
   "cell_type": "code",
   "execution_count": null,
   "metadata": {},
   "outputs": [],
   "source": []
  },
  {
   "cell_type": "code",
   "execution_count": null,
   "metadata": {},
   "outputs": [],
   "source": []
  }
 ],
 "metadata": {
  "kernelspec": {
   "display_name": "venv",
   "language": "python",
   "name": "venv"
  },
  "language_info": {
   "codemirror_mode": {
    "name": "ipython",
    "version": 3
   },
   "file_extension": ".py",
   "mimetype": "text/x-python",
   "name": "python",
   "nbconvert_exporter": "python",
   "pygments_lexer": "ipython3",
   "version": "3.7.5"
  }
 },
 "nbformat": 4,
 "nbformat_minor": 2
}
