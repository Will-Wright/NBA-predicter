{
 "cells": [
  {
   "cell_type": "code",
   "execution_count": 1,
   "metadata": {},
   "outputs": [],
   "source": [
    "# Imports everything (say what)\n",
    "# Explain reason for exactly 2 classes\n",
    "# DP\n",
    "#    ACQUISITION\n",
    "#    INTEGRATION\n",
    "#    PROCESSING\n",
    "# DC\n",
    "#    SELECT FEATURES, PARAMS, CLASSIFIERS\n",
    "#    MODEL\n",
    "#    EVALUATE\n",
    "#    PLOT/VISUALIZE\n",
    "#\n",
    "\n",
    "from src.DataProcessor import DataProcessor\n",
    "from src.DataClassifier import DataClassifier"
   ]
  },
  {
   "cell_type": "code",
   "execution_count": 2,
   "metadata": {},
   "outputs": [],
   "source": [
    "# Say what DP does generally\n",
    "# Note that can also call dp.update_and_process_all_data()\n",
    "\n",
    "\n",
    "dp = DataProcessor()"
   ]
  },
  {
   "cell_type": "code",
   "execution_count": null,
   "metadata": {},
   "outputs": [],
   "source": [
    "# DATA ACQUISITION - describe scrape\n",
    "\n",
    "\n",
    "dp.scrape_data_player_box_scores()\n",
    "dp.scrape_data_team_box_scores()\n",
    "dp.scrape_data_season_schedule()"
   ]
  },
  {
   "cell_type": "code",
   "execution_count": null,
   "metadata": {},
   "outputs": [],
   "source": [
    "# DATA INTEGRATION, PROCESSING\n",
    "\n",
    "\n",
    "# Integrates team box score and season schedule data\n",
    "# EXPLAIN\n",
    "dp.create_processed_team_box_and_add_season_schedule()\n",
    "\n",
    "# Adds derived features\n",
    "# EXPLAIN THEY ARE GOOD PER LIT REVIEW\n",
    "dp.add_fgp_tpp_tr_to_processed_team_box()\n",
    "\n",
    "\n",
    "# Writes single csv file for Classification and Validation \n",
    "dp.write_complete_processed_team_box()"
   ]
  },
  {
   "cell_type": "code",
   "execution_count": 3,
   "metadata": {},
   "outputs": [],
   "source": [
    "# Say what DC does generally\n",
    "\n",
    "dm = DataClassifier()\n"
   ]
  },
  {
   "cell_type": "code",
   "execution_count": 4,
   "metadata": {
    "scrolled": false
   },
   "outputs": [
    {
     "name": "stdout",
     "output_type": "stream",
     "text": [
      "\n",
      "Loading model from processed data.\n",
      "\n"
     ]
    }
   ],
   "source": [
    "# DATA MODELING, EVALUATION\n",
    "\n",
    "\n",
    "#\n",
    "\n",
    "dm.load_data()\n",
    "\n",
    "\n",
    "#\n",
    "\n",
    "dm.set_feats_and_labels()\n",
    "dm.set_train_test_split(n_splits = 3)\n",
    "dm.set_classifiers()"
   ]
  },
  {
   "cell_type": "code",
   "execution_count": 5,
   "metadata": {},
   "outputs": [
    {
     "name": "stdout",
     "output_type": "stream",
     "text": [
      "Training and testing model : 1 of 3\n",
      "Training and testing model : 2 of 3\n",
      "Training and testing model : 3 of 3\n",
      "==============================\n",
      "DecisionTreeClassifier\n",
      "****Results****\n",
      "Avg Accuracy : 71.3025%\n",
      "Variance     : 1.12272e-05\n",
      "Avg Log Loss : 9.911759555021996\n",
      "==============================\n"
     ]
    }
   ],
   "source": [
    "#\n",
    "\n",
    "dm.train_and_test_models()"
   ]
  },
  {
   "cell_type": "code",
   "execution_count": 6,
   "metadata": {},
   "outputs": [
    {
     "data": {
      "image/png": "[encoded data removed]",
      "text/plain": [
       "<Figure size 432x288 with 1 Axes>"
      ]
     },
     "metadata": {
      "needs_background": "light"
     },
     "output_type": "display_data"
    },
    {
     "data": {
      "image/png": "[encoded data removed]",
      "text/plain": [
       "<Figure size 432x288 with 1 Axes>"
      ]
     },
     "metadata": {
      "needs_background": "light"
     },
     "output_type": "display_data"
    }
   ],
   "source": [
    "# \n",
    "\n",
    "\n",
    "\n",
    "dm.plot_results()"
   ]
  },
  {
   "cell_type": "code",
   "execution_count": null,
   "metadata": {},
   "outputs": [],
   "source": []
  }
 ],
 "metadata": {
  "kernelspec": {
   "display_name": "venv",
   "language": "python",
   "name": "venv"
  },
  "language_info": {
   "codemirror_mode": {
    "name": "ipython",
    "version": 3
   },
   "file_extension": ".py",
   "mimetype": "text/x-python",
   "name": "python",
   "nbconvert_exporter": "python",
   "pygments_lexer": "ipython3",
   "version": "3.7.5"
  }
 },
 "nbformat": 4,
 "nbformat_minor": 2
}
