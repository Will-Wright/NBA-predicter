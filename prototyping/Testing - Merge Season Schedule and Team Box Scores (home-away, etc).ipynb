{
 "cells": [
  {
   "cell_type": "code",
   "execution_count": 1,
   "metadata": {},
   "outputs": [],
   "source": [
    "import pandas as pd\n",
    "import numpy as np"
   ]
  },
  {
   "cell_type": "code",
   "execution_count": 6,
   "metadata": {},
   "outputs": [],
   "source": [
    "team_file_path = \"data_raw/team_box_scores/2018_2019/\"\n",
    "team_file_name = \"2018_10_16_team_box_scores.csv\"\n",
    "schedule_file_path = \"data_raw/season_schedule/\"\n",
    "schedule_file_name = \"2018_2019_season_schedule.csv\"\n",
    "\n",
    "team = pd.read_csv(team_file_path + team_file_name)\n",
    "sch = pd.read_csv(schedule_file_path + schedule_file_name, \\\n",
    "                  parse_dates=[\"start_time\"])\n"
   ]
  },
  {
   "cell_type": "code",
   "execution_count": null,
   "metadata": {},
   "outputs": [],
   "source": []
  },
  {
   "cell_type": "code",
   "execution_count": 7,
   "metadata": {},
   "outputs": [
    {
     "data": {
      "text/html": [
       "<div>\n",
       "<style scoped>\n",
       "    .dataframe tbody tr th:only-of-type {\n",
       "        vertical-align: middle;\n",
       "    }\n",
       "\n",
       "    .dataframe tbody tr th {\n",
       "        vertical-align: top;\n",
       "    }\n",
       "\n",
       "    .dataframe thead th {\n",
       "        text-align: right;\n",
       "    }\n",
       "</style>\n",
       "<table border=\"1\" class=\"dataframe\">\n",
       "  <thead>\n",
       "    <tr style=\"text-align: right;\">\n",
       "      <th></th>\n",
       "      <th>team</th>\n",
       "      <th>location</th>\n",
       "      <th>opponent</th>\n",
       "      <th>outcome</th>\n",
       "      <th>game_score</th>\n",
       "      <th>opponent_score</th>\n",
       "      <th>minutes_played</th>\n",
       "      <th>made_field_goals</th>\n",
       "      <th>attempted_field_goals</th>\n",
       "      <th>made_three_point_field_goals</th>\n",
       "      <th>attempted_three_point_field_goals</th>\n",
       "      <th>made_free_throws</th>\n",
       "      <th>attempted_free_throws</th>\n",
       "      <th>offensive_rebounds</th>\n",
       "      <th>defensive_rebounds</th>\n",
       "      <th>assists</th>\n",
       "      <th>steals</th>\n",
       "      <th>blocks</th>\n",
       "      <th>turnovers</th>\n",
       "      <th>personal_fouls</th>\n",
       "    </tr>\n",
       "  </thead>\n",
       "  <tbody>\n",
       "    <tr>\n",
       "      <th>0</th>\n",
       "      <td>PHILADELPHIA 76ERS</td>\n",
       "      <td>NaN</td>\n",
       "      <td>NaN</td>\n",
       "      <td>NaN</td>\n",
       "      <td>NaN</td>\n",
       "      <td>NaN</td>\n",
       "      <td>240</td>\n",
       "      <td>34</td>\n",
       "      <td>87</td>\n",
       "      <td>5</td>\n",
       "      <td>26</td>\n",
       "      <td>14</td>\n",
       "      <td>23</td>\n",
       "      <td>6</td>\n",
       "      <td>41</td>\n",
       "      <td>18</td>\n",
       "      <td>8</td>\n",
       "      <td>5</td>\n",
       "      <td>16</td>\n",
       "      <td>20</td>\n",
       "    </tr>\n",
       "    <tr>\n",
       "      <th>1</th>\n",
       "      <td>BOSTON CELTICS</td>\n",
       "      <td>NaN</td>\n",
       "      <td>NaN</td>\n",
       "      <td>NaN</td>\n",
       "      <td>NaN</td>\n",
       "      <td>NaN</td>\n",
       "      <td>240</td>\n",
       "      <td>42</td>\n",
       "      <td>97</td>\n",
       "      <td>11</td>\n",
       "      <td>37</td>\n",
       "      <td>10</td>\n",
       "      <td>14</td>\n",
       "      <td>12</td>\n",
       "      <td>43</td>\n",
       "      <td>21</td>\n",
       "      <td>7</td>\n",
       "      <td>5</td>\n",
       "      <td>14</td>\n",
       "      <td>20</td>\n",
       "    </tr>\n",
       "    <tr>\n",
       "      <th>2</th>\n",
       "      <td>OKLAHOMA CITY THUNDER</td>\n",
       "      <td>new location</td>\n",
       "      <td>NaN</td>\n",
       "      <td>NaN</td>\n",
       "      <td>NaN</td>\n",
       "      <td>NaN</td>\n",
       "      <td>240</td>\n",
       "      <td>33</td>\n",
       "      <td>91</td>\n",
       "      <td>10</td>\n",
       "      <td>37</td>\n",
       "      <td>24</td>\n",
       "      <td>37</td>\n",
       "      <td>16</td>\n",
       "      <td>29</td>\n",
       "      <td>21</td>\n",
       "      <td>12</td>\n",
       "      <td>6</td>\n",
       "      <td>14</td>\n",
       "      <td>21</td>\n",
       "    </tr>\n",
       "    <tr>\n",
       "      <th>3</th>\n",
       "      <td>GOLDEN STATE WARRIORS</td>\n",
       "      <td>NaN</td>\n",
       "      <td>NaN</td>\n",
       "      <td>NaN</td>\n",
       "      <td>NaN</td>\n",
       "      <td>NaN</td>\n",
       "      <td>240</td>\n",
       "      <td>42</td>\n",
       "      <td>95</td>\n",
       "      <td>7</td>\n",
       "      <td>26</td>\n",
       "      <td>17</td>\n",
       "      <td>18</td>\n",
       "      <td>17</td>\n",
       "      <td>41</td>\n",
       "      <td>28</td>\n",
       "      <td>7</td>\n",
       "      <td>7</td>\n",
       "      <td>21</td>\n",
       "      <td>29</td>\n",
       "    </tr>\n",
       "  </tbody>\n",
       "</table>\n",
       "</div>"
      ],
      "text/plain": [
       "                    team      location  opponent  outcome  game_score  \\\n",
       "0     PHILADELPHIA 76ERS           NaN       NaN      NaN         NaN   \n",
       "1         BOSTON CELTICS           NaN       NaN      NaN         NaN   \n",
       "2  OKLAHOMA CITY THUNDER  new location       NaN      NaN         NaN   \n",
       "3  GOLDEN STATE WARRIORS           NaN       NaN      NaN         NaN   \n",
       "\n",
       "   opponent_score  minutes_played  made_field_goals  attempted_field_goals  \\\n",
       "0             NaN             240                34                     87   \n",
       "1             NaN             240                42                     97   \n",
       "2             NaN             240                33                     91   \n",
       "3             NaN             240                42                     95   \n",
       "\n",
       "   made_three_point_field_goals  attempted_three_point_field_goals  \\\n",
       "0                             5                                 26   \n",
       "1                            11                                 37   \n",
       "2                            10                                 37   \n",
       "3                             7                                 26   \n",
       "\n",
       "   made_free_throws  attempted_free_throws  offensive_rebounds  \\\n",
       "0                14                     23                   6   \n",
       "1                10                     14                  12   \n",
       "2                24                     37                  16   \n",
       "3                17                     18                  17   \n",
       "\n",
       "   defensive_rebounds  assists  steals  blocks  turnovers  personal_fouls  \n",
       "0                  41       18       8       5         16              20  \n",
       "1                  43       21       7       5         14              20  \n",
       "2                  29       21      12       6         14              21  \n",
       "3                  41       28       7       7         21              29  "
      ]
     },
     "execution_count": 7,
     "metadata": {},
     "output_type": "execute_result"
    }
   ],
   "source": [
    "# Inserts columns and modifies specific entry\n",
    "n_rows = team.shape[0]\n",
    "team.insert(1,\"location\", np.nan)\n",
    "team.insert(2,\"opponent\", np.nan)\n",
    "team.insert(3,\"outcome\", np.nan)\n",
    "team.insert(4,\"game_score\", np.nan)\n",
    "team.insert(5,\"opponent_score\", np.nan)\n",
    "\n",
    "# Modifies single entry\n",
    "team.loc[2, \"location\"] = 'new location'\n",
    "\n",
    "team.head()"
   ]
  },
  {
   "cell_type": "code",
   "execution_count": 4,
   "metadata": {},
   "outputs": [],
   "source": []
  },
  {
   "cell_type": "code",
   "execution_count": 8,
   "metadata": {},
   "outputs": [
    {
     "data": {
      "text/plain": [
       "0    2018-10-17 00:00:00+00:00\n",
       "1    2018-10-17 02:30:00+00:00\n",
       "2    2018-10-17 23:00:00+00:00\n",
       "3    2018-10-17 23:00:00+00:00\n",
       "4    2018-10-17 23:00:00+00:00\n",
       "5    2018-10-17 23:00:00+00:00\n",
       "6    2018-10-17 23:30:00+00:00\n",
       "7    2018-10-17 23:30:00+00:00\n",
       "8    2018-10-18 00:00:00+00:00\n",
       "9    2018-10-18 00:30:00+00:00\n",
       "10   2018-10-18 02:00:00+00:00\n",
       "11   2018-10-18 02:30:00+00:00\n",
       "12   2018-10-18 02:30:00+00:00\n",
       "13   2018-10-19 00:00:00+00:00\n",
       "14   2018-10-19 00:00:00+00:00\n",
       "15   2018-10-19 02:30:00+00:00\n",
       "16   2018-10-19 23:00:00+00:00\n",
       "17   2018-10-19 23:30:00+00:00\n",
       "18   2018-10-20 00:00:00+00:00\n",
       "19   2018-10-20 00:00:00+00:00\n",
       "20   2018-10-20 00:00:00+00:00\n",
       "Name: start_time, dtype: datetime64[ns, UTC]"
      ]
     },
     "execution_count": 8,
     "metadata": {},
     "output_type": "execute_result"
    }
   ],
   "source": [
    "sch.loc[0:20, \"start_time\"]"
   ]
  },
  {
   "cell_type": "code",
   "execution_count": 10,
   "metadata": {},
   "outputs": [
    {
     "data": {
      "text/plain": [
       "True"
      ]
     },
     "execution_count": 10,
     "metadata": {},
     "output_type": "execute_result"
    }
   ],
   "source": [
    "i = 3\n",
    "sch.loc[i, \"start_time\"] >= sch.loc[i+1, \"start_time\"]"
   ]
  },
  {
   "cell_type": "code",
   "execution_count": null,
   "metadata": {},
   "outputs": [],
   "source": []
  },
  {
   "cell_type": "code",
   "execution_count": null,
   "metadata": {},
   "outputs": [],
   "source": []
  }
 ],
 "metadata": {
  "kernelspec": {
   "display_name": "venv",
   "language": "python",
   "name": "venv"
  },
  "language_info": {
   "codemirror_mode": {
    "name": "ipython",
    "version": 3
   },
   "file_extension": ".py",
   "mimetype": "text/x-python",
   "name": "python",
   "nbconvert_exporter": "python",
   "pygments_lexer": "ipython3",
   "version": "3.7.5"
  }
 },
 "nbformat": 4,
 "nbformat_minor": 2
}
