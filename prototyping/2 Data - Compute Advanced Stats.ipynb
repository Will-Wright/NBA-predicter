{
 "cells": [
  {
   "cell_type": "code",
   "execution_count": null,
   "metadata": {},
   "outputs": [],
   "source": [
    "# Functions to calculate advanced statistics\n",
    "# \n",
    "# BBRef Glossary of Terms\n",
    "#   https://www.basketball-reference.com/about/glossary.html#pts\n",
    "#\n",
    "# Note the following are basic stats available in raw data:\n",
    "#\n",
    "# SYM    FULL NAME\n",
    "# MP   - minutes_played\n",
    "# FG   - made_field_goals\n",
    "# FGA  - attempted_field_goals\n",
    "# FG%  - (derived) - field_goal_percentage\n",
    "# 3P   - made_three_point_field_goals\n",
    "# 3PA  - attempted_three_point_field_goals\n",
    "# 3P%  - (derived) - three_point_percentage \n",
    "# FT   - made_free_throws\n",
    "# FTA  - attempted_free_throws\n",
    "# ORB  - offensive_rebounds\n",
    "# DRB  - defensive_rebounds\n",
    "# TRB  - (derived) - total_rebounds \n",
    "# AST  - assists\n",
    "# STL  - steals\n",
    "# BLK  - blocks\n",
    "# TOV  - turnovers\n",
    "# PF   - personal_fouls\n",
    "# GmSc - game_score\n",
    "#      - location\n",
    "#      - outcome\n",
    "#      - opponent\n",
    "#      - opponent_score\n",
    "#\n",
    "# All variables below are lower-case, and \n",
    "# translated into alphabetical with underscores\n",
    "\n",
    "\n",
    "# TSA\n",
    "def get_true_shoot_attempt(fga, fta):\n",
    "    tsa = fga + 0.44*fta\n",
    "    return tsa\n",
    "\n",
    "# TS%\n",
    "def get_true_shoot_percentage(tsa, three_p, fg, ft):\n",
    "    # total points = 2*2P + 3*3P + FT\n",
    "    # 2P = FG - 3P\n",
    "    two_p = fg - three_p\n",
    "    pts = ft + 2*two_p + 3*three_p\n",
    "    ts_per = pts / (2*tsa)\n",
    "    return ts_per\n"
   ]
  }
 ],
 "metadata": {
  "kernelspec": {
   "display_name": "venv",
   "language": "python",
   "name": "venv"
  },
  "language_info": {
   "codemirror_mode": {
    "name": "ipython",
    "version": 3
   },
   "file_extension": ".py",
   "mimetype": "text/x-python",
   "name": "python",
   "nbconvert_exporter": "python",
   "pygments_lexer": "ipython3",
   "version": "3.7.5"
  }
 },
 "nbformat": 4,
 "nbformat_minor": 2
}
