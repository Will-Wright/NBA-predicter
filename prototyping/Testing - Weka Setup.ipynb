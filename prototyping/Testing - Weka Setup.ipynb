{
 "cells": [
  {
   "cell_type": "code",
   "execution_count": null,
   "metadata": {},
   "outputs": [],
   "source": [
    "#\n",
    "#   RESUME HERE - MAIN GOAL IS df2arff for quick Phase 3 Modeling\n",
    "#\n",
    "#   1) Write conversion script:  df -> arff\n",
    "#         Current method (at bottom) handles apostrophes wrong\n",
    "#      Possible plan: arff -> df <-> csv -> arff\n",
    "#      using legit Python3 method\n",
    "#         https://pypi.org/project/csv2arff/\n",
    "#\n",
    "#   2) Verify df -> arff script works for toy data below\n",
    "#      Must split arff test data into training and test sets\n",
    "#\n",
    "#   3) [MAIN GOAL] Create df2arff function for Phase 3 Modeling\n",
    "#\n",
    "#   4) Get LMT, other NBA models working\n",
    "#\n",
    "#   5) ?\n",
    "#\n",
    "#   6) Profit"
   ]
  },
  {
   "cell_type": "code",
   "execution_count": 1,
   "metadata": {},
   "outputs": [],
   "source": [
    "# This example is based on the tutorial in the \n",
    "# following slides (Part 4: WEKA and Python)\n",
    "# https://www.cs.waikato.ac.nz/~eibe/WEKA_Ecosystem.pdf\n",
    "#\n",
    "#\n",
    "# MUST COPY FOLLOWING LIBRARIES INTO /usr/share/java/\n",
    "#\n",
    "#   WEKA Java Library\n",
    "# https://www.cs.waikato.ac.nz/ml/weka/downloading.html\n",
    "#   LIBSVM Java Library\n",
    "# https://www.csie.ntu.edu.tw/~cjlin/libsvm/#download\n",
    "#\n",
    "#\n",
    "# MUST ALSO INSTALL WEKA AND JAVABRIDGE WRAPPERS\n",
    "#\n",
    "#   WEKA WRAPPER SUPPORT\n",
    "# https://fracpete.github.io/python-weka-wrapper/api.html\n",
    "# http://fracpete.github.io/python-weka-wrapper3/\n",
    "# https://github.com/fracpete/python-weka-wrapper3\n",
    "#\n",
    "#   JAVABRIDGE SUPPORT\n",
    "# https://github.com/LeeKamentsky/python-javabridge/issues/151\n",
    "# https://pythonhosted.org/javabridge/installation.html#install-using-pip\n",
    "#\n",
    "#\n",
    "#   WEKA DOCUMENTATION\n",
    "# http://fracpete.github.io/python-weka-wrapper3/\n",
    "#\n",
    "#   WEKA DATA SETS (ARFF FILES)\n",
    "# https://storm.cis.fordham.edu/~gweiss/data-mining/datasets.html\n",
    "#\n",
    "#   WEKA TUTORIALS\n",
    "# https://www.futurelearn.com/courses/advanced-data-mining-with-weka/0/steps/29491\n",
    "# https://www.cs.waikato.ac.nz/~eibe/WEKA_Ecosystem.pdf"
   ]
  },
  {
   "cell_type": "code",
   "execution_count": 1,
   "metadata": {},
   "outputs": [
    {
     "name": "stderr",
     "output_type": "stream",
     "text": [
      "DEBUG:weka.core.jvm:Adding bundled jars\n",
      "DEBUG:weka.core.jvm:Classpath=['/Users/williamwright/Google Drive/ucd_math_backup/Python/venv/lib/python3.7/site-packages/javabridge/jars/rhino-1.7R4.jar', '/Users/williamwright/Google Drive/ucd_math_backup/Python/venv/lib/python3.7/site-packages/javabridge/jars/runnablequeue.jar', '/Users/williamwright/Google Drive/ucd_math_backup/Python/venv/lib/python3.7/site-packages/javabridge/jars/cpython.jar', '/Users/williamwright/Google Drive/ucd_math_backup/Python/venv/lib/python3.7/site-packages/weka/lib/python-weka-wrapper.jar', '/Users/williamwright/Google Drive/ucd_math_backup/Python/venv/lib/python3.7/site-packages/weka/lib/weka.jar']\n",
      "DEBUG:weka.core.jvm:MaxHeapSize=default\n",
      "DEBUG:weka.core.jvm:Package support disabled\n"
     ]
    },
    {
     "name": "stdout",
     "output_type": "stream",
     "text": [
      "Help on function start in module weka.core.jvm:\n",
      "\n",
      "start(class_path=None, bundled=True, packages=False, system_cp=False, max_heap_size=None)\n",
      "    Initializes the javabridge connection (starts up the JVM).\n",
      "    \n",
      "    :param class_path: the additional classpath elements to add\n",
      "    :type class_path: list\n",
      "    :param bundled: whether to add jars from the \"lib\" directory\n",
      "    :type bundled: bool\n",
      "    :param packages: whether to add jars from Weka packages as well (bool) or an alternative Weka home directory (str)\n",
      "    :type packages: bool or str\n",
      "    :param system_cp: whether to add the system classpath as well\n",
      "    :type system_cp: bool\n",
      "    :param max_heap_size: the maximum heap size (-Xmx parameter, eg 512m or 4g)\n",
      "    :type max_heap_size: str\n",
      "\n"
     ]
    }
   ],
   "source": [
    "# Run java\n",
    "\n",
    "import weka.core.jvm as jvm\n",
    "jvm.start()\n",
    "help(jvm.start)"
   ]
  },
  {
   "cell_type": "code",
   "execution_count": null,
   "metadata": {},
   "outputs": [],
   "source": []
  },
  {
   "cell_type": "code",
   "execution_count": null,
   "metadata": {},
   "outputs": [],
   "source": []
  },
  {
   "cell_type": "code",
   "execution_count": null,
   "metadata": {},
   "outputs": [],
   "source": []
  },
  {
   "cell_type": "code",
   "execution_count": 2,
   "metadata": {},
   "outputs": [
    {
     "name": "stdout",
     "output_type": "stream",
     "text": [
      "@relation weather\n",
      "\n",
      "@attribute outlook {sunny,overcast,rainy}\n",
      "@attribute temperature numeric\n",
      "@attribute humidity numeric\n",
      "@attribute windy {TRUE,FALSE}\n",
      "@attribute play {yes,no}\n",
      "\n",
      "@data\n",
      "sunny,85,85,FALSE,no\n",
      "sunny,80,90,TRUE,no\n",
      "overcast,83,86,FALSE,yes\n",
      "rainy,70,96,FALSE,yes\n",
      "rainy,68,80,FALSE,yes\n",
      "rainy,65,70,TRUE,no\n",
      "overcast,64,65,TRUE,yes\n",
      "sunny,72,95,FALSE,no\n",
      "sunny,69,70,FALSE,yes\n",
      "rainy,75,80,FALSE,yes\n",
      "sunny,75,70,TRUE,yes\n",
      "overcast,72,90,TRUE,yes\n",
      "overcast,81,75,FALSE,yes\n",
      "rainy,71,91,TRUE,no\n"
     ]
    }
   ],
   "source": [
    "# Load and print data in ARFF format\n",
    "\n",
    "import weka.core.converters as converters\n",
    "data = converters.load_any_file(\"data_weka_test/weather.arff\")\n",
    "data.class_is_last()\n",
    "print(data)"
   ]
  },
  {
   "cell_type": "code",
   "execution_count": 4,
   "metadata": {},
   "outputs": [
    {
     "data": {
      "text/plain": [
       "FullArgSpec(args=['self', 'name', 'ckargs', 'model_data'], varargs=None, varkw=None, defaults=(None, None), kwonlyargs=[], kwonlydefaults=None, annotations={})"
      ]
     },
     "execution_count": 4,
     "metadata": {},
     "output_type": "execute_result"
    }
   ],
   "source": [
    "# Inspect all args in Classifier method\n",
    "\n",
    "import inspect\n",
    "from weka.classifiers import Classifier\n",
    "inspect.getfullargspec(Classifier)"
   ]
  },
  {
   "cell_type": "code",
   "execution_count": null,
   "metadata": {
    "scrolled": true
   },
   "outputs": [],
   "source": []
  },
  {
   "cell_type": "code",
   "execution_count": null,
   "metadata": {},
   "outputs": [],
   "source": []
  },
  {
   "cell_type": "code",
   "execution_count": null,
   "metadata": {},
   "outputs": [],
   "source": []
  },
  {
   "cell_type": "code",
   "execution_count": 3,
   "metadata": {},
   "outputs": [],
   "source": [
    "# LMT DEMO\n",
    "#   Support\n",
    "# http://weka.sourceforge.net/doc.dev/weka/classifiers/trees/LMT.html\n",
    "#\n",
    "\n",
    "from weka.classifiers import Classifier\n",
    "cls = Classifier(name=\"weka.classifiers.trees.LMT\")"
   ]
  },
  {
   "cell_type": "code",
   "execution_count": 4,
   "metadata": {},
   "outputs": [],
   "source": [
    "cls.train(training_data=\"data_weka_test/weather.arff\")"
   ]
  },
  {
   "cell_type": "code",
   "execution_count": null,
   "metadata": {},
   "outputs": [],
   "source": []
  },
  {
   "cell_type": "code",
   "execution_count": null,
   "metadata": {},
   "outputs": [],
   "source": []
  },
  {
   "cell_type": "code",
   "execution_count": null,
   "metadata": {},
   "outputs": [],
   "source": []
  },
  {
   "cell_type": "code",
   "execution_count": null,
   "metadata": {},
   "outputs": [],
   "source": [
    "#                                    X\n",
    "#   RESUME HERE: MUST CONVERT  arff -> df <-> csv -> arff\n",
    "#"
   ]
  },
  {
   "cell_type": "code",
   "execution_count": 20,
   "metadata": {},
   "outputs": [],
   "source": [
    "# Load data and split into training and test\n",
    "\n",
    "import scipy.io.arff as sp_arff\n",
    "import arff as wk_arff\n",
    "import pandas as pd\n",
    "import numpy as np\n",
    "\n",
    "# USE SCIPY to load arff as pandas dataframe\n",
    "data = sp_arff.loadarff(\"data_weka_test/diabetes.arff\")\n",
    "df = pd.DataFrame(data[0])\n"
   ]
  },
  {
   "cell_type": "code",
   "execution_count": 21,
   "metadata": {},
   "outputs": [
    {
     "data": {
      "text/html": [
       "<div>\n",
       "<style scoped>\n",
       "    .dataframe tbody tr th:only-of-type {\n",
       "        vertical-align: middle;\n",
       "    }\n",
       "\n",
       "    .dataframe tbody tr th {\n",
       "        vertical-align: top;\n",
       "    }\n",
       "\n",
       "    .dataframe thead th {\n",
       "        text-align: right;\n",
       "    }\n",
       "</style>\n",
       "<table border=\"1\" class=\"dataframe\">\n",
       "  <thead>\n",
       "    <tr style=\"text-align: right;\">\n",
       "      <th></th>\n",
       "      <th>preg</th>\n",
       "      <th>plas</th>\n",
       "      <th>pres</th>\n",
       "      <th>skin</th>\n",
       "      <th>insu</th>\n",
       "      <th>mass</th>\n",
       "      <th>pedi</th>\n",
       "      <th>age</th>\n",
       "      <th>class</th>\n",
       "    </tr>\n",
       "  </thead>\n",
       "  <tbody>\n",
       "    <tr>\n",
       "      <th>0</th>\n",
       "      <td>6.0</td>\n",
       "      <td>148.0</td>\n",
       "      <td>72.0</td>\n",
       "      <td>35.0</td>\n",
       "      <td>0.0</td>\n",
       "      <td>33.6</td>\n",
       "      <td>0.627</td>\n",
       "      <td>50.0</td>\n",
       "      <td>b'tested_positive'</td>\n",
       "    </tr>\n",
       "    <tr>\n",
       "      <th>1</th>\n",
       "      <td>1.0</td>\n",
       "      <td>85.0</td>\n",
       "      <td>66.0</td>\n",
       "      <td>29.0</td>\n",
       "      <td>0.0</td>\n",
       "      <td>26.6</td>\n",
       "      <td>0.351</td>\n",
       "      <td>31.0</td>\n",
       "      <td>b'tested_negative'</td>\n",
       "    </tr>\n",
       "    <tr>\n",
       "      <th>2</th>\n",
       "      <td>8.0</td>\n",
       "      <td>183.0</td>\n",
       "      <td>64.0</td>\n",
       "      <td>0.0</td>\n",
       "      <td>0.0</td>\n",
       "      <td>23.3</td>\n",
       "      <td>0.672</td>\n",
       "      <td>32.0</td>\n",
       "      <td>b'tested_positive'</td>\n",
       "    </tr>\n",
       "    <tr>\n",
       "      <th>3</th>\n",
       "      <td>1.0</td>\n",
       "      <td>89.0</td>\n",
       "      <td>66.0</td>\n",
       "      <td>23.0</td>\n",
       "      <td>94.0</td>\n",
       "      <td>28.1</td>\n",
       "      <td>0.167</td>\n",
       "      <td>21.0</td>\n",
       "      <td>b'tested_negative'</td>\n",
       "    </tr>\n",
       "    <tr>\n",
       "      <th>4</th>\n",
       "      <td>0.0</td>\n",
       "      <td>137.0</td>\n",
       "      <td>40.0</td>\n",
       "      <td>35.0</td>\n",
       "      <td>168.0</td>\n",
       "      <td>43.1</td>\n",
       "      <td>2.288</td>\n",
       "      <td>33.0</td>\n",
       "      <td>b'tested_positive'</td>\n",
       "    </tr>\n",
       "  </tbody>\n",
       "</table>\n",
       "</div>"
      ],
      "text/plain": [
       "   preg   plas  pres  skin   insu  mass   pedi   age               class\n",
       "0   6.0  148.0  72.0  35.0    0.0  33.6  0.627  50.0  b'tested_positive'\n",
       "1   1.0   85.0  66.0  29.0    0.0  26.6  0.351  31.0  b'tested_negative'\n",
       "2   8.0  183.0  64.0   0.0    0.0  23.3  0.672  32.0  b'tested_positive'\n",
       "3   1.0   89.0  66.0  23.0   94.0  28.1  0.167  21.0  b'tested_negative'\n",
       "4   0.0  137.0  40.0  35.0  168.0  43.1  2.288  33.0  b'tested_positive'"
      ]
     },
     "execution_count": 21,
     "metadata": {},
     "output_type": "execute_result"
    }
   ],
   "source": [
    "df.head()"
   ]
  },
  {
   "cell_type": "code",
   "execution_count": null,
   "metadata": {},
   "outputs": [],
   "source": []
  },
  {
   "cell_type": "code",
   "execution_count": null,
   "metadata": {},
   "outputs": [],
   "source": []
  },
  {
   "cell_type": "code",
   "execution_count": 14,
   "metadata": {},
   "outputs": [],
   "source": [
    "# Write pandas.DataFrame file to CSV\n",
    "df.to_csv(path_or_buf=\"data_weka_test/diabetes.csv\")"
   ]
  },
  {
   "cell_type": "code",
   "execution_count": null,
   "metadata": {},
   "outputs": [],
   "source": []
  },
  {
   "cell_type": "code",
   "execution_count": null,
   "metadata": {},
   "outputs": [],
   "source": []
  },
  {
   "cell_type": "code",
   "execution_count": 23,
   "metadata": {},
   "outputs": [
    {
     "data": {
      "text/plain": [
       "array([[6, 148, 72, ..., 0.627, 50, 'tested_positive'],\n",
       "       [1, 85, 66, ..., 0.351, 31, 'tested_negative'],\n",
       "       [8, 183, 64, ..., 0.672, 32, 'tested_positive'],\n",
       "       ...,\n",
       "       [5, 121, 72, ..., 0.245, 30, 'tested_negative'],\n",
       "       [1, 126, 60, ..., 0.349, 47, 'tested_positive'],\n",
       "       [1, 93, 70, ..., 0.315, 23, 'tested_negative']], dtype=object)"
      ]
     },
     "execution_count": 23,
     "metadata": {},
     "output_type": "execute_result"
    }
   ],
   "source": [
    "# Converts dataframe values float to int and bytes to string\n",
    "for col_idx in range(0, len(df.columns)):\n",
    "    col_name = df.columns[col_idx]\n",
    "    if isinstance(df.values[0][col_idx], float):\n",
    "        if np.array_equal(df[col_name], df[col_name].astype(int)):\n",
    "            df[col_name] = df[col_name].astype(int)\n",
    "    elif isinstance(df.values[0][col_idx], bytes):\n",
    "        df[col_name] = df[col_name].str.decode('utf-8')\n",
    "        df[col_name] = df[col_name].str.replace(r\"[\\\"\\',]\", '')\n",
    "df.values  \n"
   ]
  },
  {
   "cell_type": "code",
   "execution_count": null,
   "metadata": {},
   "outputs": [],
   "source": []
  },
  {
   "cell_type": "code",
   "execution_count": null,
   "metadata": {},
   "outputs": [],
   "source": []
  },
  {
   "cell_type": "code",
   "execution_count": 24,
   "metadata": {},
   "outputs": [],
   "source": [
    "# Save training and test dataframes to arff files\n",
    "wk_arff.dump('data_weka_test/diabetes_temp.arff',\n",
    "             df.values,\n",
    "             relation='relation name',\n",
    "             names=df.columns)"
   ]
  },
  {
   "cell_type": "code",
   "execution_count": null,
   "metadata": {},
   "outputs": [],
   "source": []
  }
 ],
 "metadata": {
  "kernelspec": {
   "display_name": "venv",
   "language": "python",
   "name": "venv"
  },
  "language_info": {
   "codemirror_mode": {
    "name": "ipython",
    "version": 3
   },
   "file_extension": ".py",
   "mimetype": "text/x-python",
   "name": "python",
   "nbconvert_exporter": "python",
   "pygments_lexer": "ipython3",
   "version": "3.7.5"
  }
 },
 "nbformat": 4,
 "nbformat_minor": 2
}
